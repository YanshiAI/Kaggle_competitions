{
 "cells": [
  {
   "cell_type": "code",
   "execution_count": 1,
   "id": "385b8d39",
   "metadata": {
    "_cell_guid": "b1076dfc-b9ad-4769-8c92-a6c4dae69d19",
    "_uuid": "8f2839f25d086af736a60e9eeb907d3b93b6e0e5",
    "execution": {
     "iopub.execute_input": "2024-07-18T08:50:40.947957Z",
     "iopub.status.busy": "2024-07-18T08:50:40.947529Z",
     "iopub.status.idle": "2024-07-18T08:50:43.755685Z",
     "shell.execute_reply": "2024-07-18T08:50:43.754495Z"
    },
    "papermill": {
     "duration": 2.819679,
     "end_time": "2024-07-18T08:50:43.758621",
     "exception": false,
     "start_time": "2024-07-18T08:50:40.938942",
     "status": "completed"
    },
    "tags": []
   },
   "outputs": [],
   "source": [
    "import numpy as np # linear algebra\n",
    "import pandas as pd # data processing, CSV file I/O (e.g. pd.read_csv)\n",
    "from sklearn.model_selection import train_test_split\n",
    "from sklearn.preprocessing import StandardScaler\n",
    "from sklearn.linear_model import LogisticRegression\n",
    "from sklearn.metrics import roc_auc_score"
   ]
  },
  {
   "cell_type": "code",
   "execution_count": 2,
   "id": "42f0d11c",
   "metadata": {
    "execution": {
     "iopub.execute_input": "2024-07-18T08:50:43.774168Z",
     "iopub.status.busy": "2024-07-18T08:50:43.773505Z",
     "iopub.status.idle": "2024-07-18T08:50:44.043668Z",
     "shell.execute_reply": "2024-07-18T08:50:44.042402Z"
    },
    "papermill": {
     "duration": 0.281256,
     "end_time": "2024-07-18T08:50:44.046844",
     "exception": false,
     "start_time": "2024-07-18T08:50:43.765588",
     "status": "completed"
    },
    "tags": []
   },
   "outputs": [],
   "source": [
    "X_train=pd.read_csv(\"/kaggle/input/playground-series-s4e3/train.csv\")\n",
    "X_test=pd.read_csv(\"/kaggle/input/playground-series-s4e3/test.csv\")"
   ]
  },
  {
   "cell_type": "code",
   "execution_count": 3,
   "id": "43175fa6",
   "metadata": {
    "execution": {
     "iopub.execute_input": "2024-07-18T08:50:44.062821Z",
     "iopub.status.busy": "2024-07-18T08:50:44.062376Z",
     "iopub.status.idle": "2024-07-18T08:50:44.098352Z",
     "shell.execute_reply": "2024-07-18T08:50:44.097110Z"
    },
    "papermill": {
     "duration": 0.047012,
     "end_time": "2024-07-18T08:50:44.101047",
     "exception": false,
     "start_time": "2024-07-18T08:50:44.054035",
     "status": "completed"
    },
    "tags": []
   },
   "outputs": [
    {
     "data": {
      "text/html": [
       "<div>\n",
       "<style scoped>\n",
       "    .dataframe tbody tr th:only-of-type {\n",
       "        vertical-align: middle;\n",
       "    }\n",
       "\n",
       "    .dataframe tbody tr th {\n",
       "        vertical-align: top;\n",
       "    }\n",
       "\n",
       "    .dataframe thead th {\n",
       "        text-align: right;\n",
       "    }\n",
       "</style>\n",
       "<table border=\"1\" class=\"dataframe\">\n",
       "  <thead>\n",
       "    <tr style=\"text-align: right;\">\n",
       "      <th></th>\n",
       "      <th>id</th>\n",
       "      <th>X_Minimum</th>\n",
       "      <th>X_Maximum</th>\n",
       "      <th>Y_Minimum</th>\n",
       "      <th>Y_Maximum</th>\n",
       "      <th>Pixels_Areas</th>\n",
       "      <th>X_Perimeter</th>\n",
       "      <th>Y_Perimeter</th>\n",
       "      <th>Sum_of_Luminosity</th>\n",
       "      <th>Minimum_of_Luminosity</th>\n",
       "      <th>...</th>\n",
       "      <th>Orientation_Index</th>\n",
       "      <th>Luminosity_Index</th>\n",
       "      <th>SigmoidOfAreas</th>\n",
       "      <th>Pastry</th>\n",
       "      <th>Z_Scratch</th>\n",
       "      <th>K_Scatch</th>\n",
       "      <th>Stains</th>\n",
       "      <th>Dirtiness</th>\n",
       "      <th>Bumps</th>\n",
       "      <th>Other_Faults</th>\n",
       "    </tr>\n",
       "  </thead>\n",
       "  <tbody>\n",
       "    <tr>\n",
       "      <th>0</th>\n",
       "      <td>0</td>\n",
       "      <td>584</td>\n",
       "      <td>590</td>\n",
       "      <td>909972</td>\n",
       "      <td>909977</td>\n",
       "      <td>16</td>\n",
       "      <td>8</td>\n",
       "      <td>5</td>\n",
       "      <td>2274</td>\n",
       "      <td>113</td>\n",
       "      <td>...</td>\n",
       "      <td>-0.5000</td>\n",
       "      <td>-0.0104</td>\n",
       "      <td>0.1417</td>\n",
       "      <td>0</td>\n",
       "      <td>0</td>\n",
       "      <td>0</td>\n",
       "      <td>1</td>\n",
       "      <td>0</td>\n",
       "      <td>0</td>\n",
       "      <td>0</td>\n",
       "    </tr>\n",
       "    <tr>\n",
       "      <th>1</th>\n",
       "      <td>1</td>\n",
       "      <td>808</td>\n",
       "      <td>816</td>\n",
       "      <td>728350</td>\n",
       "      <td>728372</td>\n",
       "      <td>433</td>\n",
       "      <td>20</td>\n",
       "      <td>54</td>\n",
       "      <td>44478</td>\n",
       "      <td>70</td>\n",
       "      <td>...</td>\n",
       "      <td>0.7419</td>\n",
       "      <td>-0.2997</td>\n",
       "      <td>0.9491</td>\n",
       "      <td>0</td>\n",
       "      <td>0</td>\n",
       "      <td>0</td>\n",
       "      <td>0</td>\n",
       "      <td>0</td>\n",
       "      <td>0</td>\n",
       "      <td>1</td>\n",
       "    </tr>\n",
       "    <tr>\n",
       "      <th>2</th>\n",
       "      <td>2</td>\n",
       "      <td>39</td>\n",
       "      <td>192</td>\n",
       "      <td>2212076</td>\n",
       "      <td>2212144</td>\n",
       "      <td>11388</td>\n",
       "      <td>705</td>\n",
       "      <td>420</td>\n",
       "      <td>1311391</td>\n",
       "      <td>29</td>\n",
       "      <td>...</td>\n",
       "      <td>-0.0105</td>\n",
       "      <td>-0.0944</td>\n",
       "      <td>1.0000</td>\n",
       "      <td>0</td>\n",
       "      <td>0</td>\n",
       "      <td>1</td>\n",
       "      <td>0</td>\n",
       "      <td>0</td>\n",
       "      <td>0</td>\n",
       "      <td>0</td>\n",
       "    </tr>\n",
       "    <tr>\n",
       "      <th>3</th>\n",
       "      <td>3</td>\n",
       "      <td>781</td>\n",
       "      <td>789</td>\n",
       "      <td>3353146</td>\n",
       "      <td>3353173</td>\n",
       "      <td>210</td>\n",
       "      <td>16</td>\n",
       "      <td>29</td>\n",
       "      <td>3202</td>\n",
       "      <td>114</td>\n",
       "      <td>...</td>\n",
       "      <td>0.6667</td>\n",
       "      <td>-0.0402</td>\n",
       "      <td>0.4025</td>\n",
       "      <td>0</td>\n",
       "      <td>0</td>\n",
       "      <td>1</td>\n",
       "      <td>0</td>\n",
       "      <td>0</td>\n",
       "      <td>0</td>\n",
       "      <td>0</td>\n",
       "    </tr>\n",
       "    <tr>\n",
       "      <th>4</th>\n",
       "      <td>4</td>\n",
       "      <td>1540</td>\n",
       "      <td>1560</td>\n",
       "      <td>618457</td>\n",
       "      <td>618502</td>\n",
       "      <td>521</td>\n",
       "      <td>72</td>\n",
       "      <td>67</td>\n",
       "      <td>48231</td>\n",
       "      <td>82</td>\n",
       "      <td>...</td>\n",
       "      <td>0.9158</td>\n",
       "      <td>-0.2455</td>\n",
       "      <td>0.9998</td>\n",
       "      <td>0</td>\n",
       "      <td>0</td>\n",
       "      <td>0</td>\n",
       "      <td>0</td>\n",
       "      <td>0</td>\n",
       "      <td>0</td>\n",
       "      <td>1</td>\n",
       "    </tr>\n",
       "  </tbody>\n",
       "</table>\n",
       "<p>5 rows × 35 columns</p>\n",
       "</div>"
      ],
      "text/plain": [
       "   id  X_Minimum  X_Maximum  Y_Minimum  Y_Maximum  Pixels_Areas  X_Perimeter  \\\n",
       "0   0        584        590     909972     909977            16            8   \n",
       "1   1        808        816     728350     728372           433           20   \n",
       "2   2         39        192    2212076    2212144         11388          705   \n",
       "3   3        781        789    3353146    3353173           210           16   \n",
       "4   4       1540       1560     618457     618502           521           72   \n",
       "\n",
       "   Y_Perimeter  Sum_of_Luminosity  Minimum_of_Luminosity  ...  \\\n",
       "0            5               2274                    113  ...   \n",
       "1           54              44478                     70  ...   \n",
       "2          420            1311391                     29  ...   \n",
       "3           29               3202                    114  ...   \n",
       "4           67              48231                     82  ...   \n",
       "\n",
       "   Orientation_Index  Luminosity_Index  SigmoidOfAreas  Pastry  Z_Scratch  \\\n",
       "0            -0.5000           -0.0104          0.1417       0          0   \n",
       "1             0.7419           -0.2997          0.9491       0          0   \n",
       "2            -0.0105           -0.0944          1.0000       0          0   \n",
       "3             0.6667           -0.0402          0.4025       0          0   \n",
       "4             0.9158           -0.2455          0.9998       0          0   \n",
       "\n",
       "   K_Scatch  Stains  Dirtiness  Bumps  Other_Faults  \n",
       "0         0       1          0      0             0  \n",
       "1         0       0          0      0             1  \n",
       "2         1       0          0      0             0  \n",
       "3         1       0          0      0             0  \n",
       "4         0       0          0      0             1  \n",
       "\n",
       "[5 rows x 35 columns]"
      ]
     },
     "execution_count": 3,
     "metadata": {},
     "output_type": "execute_result"
    }
   ],
   "source": [
    "X_train.head()"
   ]
  },
  {
   "cell_type": "code",
   "execution_count": 4,
   "id": "861eb61c",
   "metadata": {
    "execution": {
     "iopub.execute_input": "2024-07-18T08:50:44.116935Z",
     "iopub.status.busy": "2024-07-18T08:50:44.116498Z",
     "iopub.status.idle": "2024-07-18T08:50:44.144621Z",
     "shell.execute_reply": "2024-07-18T08:50:44.143203Z"
    },
    "papermill": {
     "duration": 0.04024,
     "end_time": "2024-07-18T08:50:44.148391",
     "exception": false,
     "start_time": "2024-07-18T08:50:44.108151",
     "status": "completed"
    },
    "tags": []
   },
   "outputs": [
    {
     "name": "stdout",
     "output_type": "stream",
     "text": [
      "<class 'pandas.core.frame.DataFrame'>\n",
      "RangeIndex: 19219 entries, 0 to 19218\n",
      "Data columns (total 35 columns):\n",
      " #   Column                 Non-Null Count  Dtype  \n",
      "---  ------                 --------------  -----  \n",
      " 0   id                     19219 non-null  int64  \n",
      " 1   X_Minimum              19219 non-null  int64  \n",
      " 2   X_Maximum              19219 non-null  int64  \n",
      " 3   Y_Minimum              19219 non-null  int64  \n",
      " 4   Y_Maximum              19219 non-null  int64  \n",
      " 5   Pixels_Areas           19219 non-null  int64  \n",
      " 6   X_Perimeter            19219 non-null  int64  \n",
      " 7   Y_Perimeter            19219 non-null  int64  \n",
      " 8   Sum_of_Luminosity      19219 non-null  int64  \n",
      " 9   Minimum_of_Luminosity  19219 non-null  int64  \n",
      " 10  Maximum_of_Luminosity  19219 non-null  int64  \n",
      " 11  Length_of_Conveyer     19219 non-null  int64  \n",
      " 12  TypeOfSteel_A300       19219 non-null  int64  \n",
      " 13  TypeOfSteel_A400       19219 non-null  int64  \n",
      " 14  Steel_Plate_Thickness  19219 non-null  int64  \n",
      " 15  Edges_Index            19219 non-null  float64\n",
      " 16  Empty_Index            19219 non-null  float64\n",
      " 17  Square_Index           19219 non-null  float64\n",
      " 18  Outside_X_Index        19219 non-null  float64\n",
      " 19  Edges_X_Index          19219 non-null  float64\n",
      " 20  Edges_Y_Index          19219 non-null  float64\n",
      " 21  Outside_Global_Index   19219 non-null  float64\n",
      " 22  LogOfAreas             19219 non-null  float64\n",
      " 23  Log_X_Index            19219 non-null  float64\n",
      " 24  Log_Y_Index            19219 non-null  float64\n",
      " 25  Orientation_Index      19219 non-null  float64\n",
      " 26  Luminosity_Index       19219 non-null  float64\n",
      " 27  SigmoidOfAreas         19219 non-null  float64\n",
      " 28  Pastry                 19219 non-null  int64  \n",
      " 29  Z_Scratch              19219 non-null  int64  \n",
      " 30  K_Scatch               19219 non-null  int64  \n",
      " 31  Stains                 19219 non-null  int64  \n",
      " 32  Dirtiness              19219 non-null  int64  \n",
      " 33  Bumps                  19219 non-null  int64  \n",
      " 34  Other_Faults           19219 non-null  int64  \n",
      "dtypes: float64(13), int64(22)\n",
      "memory usage: 5.1 MB\n"
     ]
    }
   ],
   "source": [
    "X_train.info()"
   ]
  },
  {
   "cell_type": "code",
   "execution_count": 5,
   "id": "986644eb",
   "metadata": {
    "execution": {
     "iopub.execute_input": "2024-07-18T08:50:44.164850Z",
     "iopub.status.busy": "2024-07-18T08:50:44.164352Z",
     "iopub.status.idle": "2024-07-18T08:50:44.175281Z",
     "shell.execute_reply": "2024-07-18T08:50:44.174030Z"
    },
    "papermill": {
     "duration": 0.022432,
     "end_time": "2024-07-18T08:50:44.178160",
     "exception": false,
     "start_time": "2024-07-18T08:50:44.155728",
     "status": "completed"
    },
    "tags": []
   },
   "outputs": [
    {
     "data": {
      "text/plain": [
       "id                       0\n",
       "X_Minimum                0\n",
       "X_Maximum                0\n",
       "Y_Minimum                0\n",
       "Y_Maximum                0\n",
       "Pixels_Areas             0\n",
       "X_Perimeter              0\n",
       "Y_Perimeter              0\n",
       "Sum_of_Luminosity        0\n",
       "Minimum_of_Luminosity    0\n",
       "Maximum_of_Luminosity    0\n",
       "Length_of_Conveyer       0\n",
       "TypeOfSteel_A300         0\n",
       "TypeOfSteel_A400         0\n",
       "Steel_Plate_Thickness    0\n",
       "Edges_Index              0\n",
       "Empty_Index              0\n",
       "Square_Index             0\n",
       "Outside_X_Index          0\n",
       "Edges_X_Index            0\n",
       "Edges_Y_Index            0\n",
       "Outside_Global_Index     0\n",
       "LogOfAreas               0\n",
       "Log_X_Index              0\n",
       "Log_Y_Index              0\n",
       "Orientation_Index        0\n",
       "Luminosity_Index         0\n",
       "SigmoidOfAreas           0\n",
       "Pastry                   0\n",
       "Z_Scratch                0\n",
       "K_Scatch                 0\n",
       "Stains                   0\n",
       "Dirtiness                0\n",
       "Bumps                    0\n",
       "Other_Faults             0\n",
       "dtype: int64"
      ]
     },
     "execution_count": 5,
     "metadata": {},
     "output_type": "execute_result"
    }
   ],
   "source": [
    "X_train.isnull().sum()"
   ]
  },
  {
   "cell_type": "code",
   "execution_count": 6,
   "id": "3e250349",
   "metadata": {
    "execution": {
     "iopub.execute_input": "2024-07-18T08:50:44.195005Z",
     "iopub.status.busy": "2024-07-18T08:50:44.194533Z",
     "iopub.status.idle": "2024-07-18T08:50:44.340496Z",
     "shell.execute_reply": "2024-07-18T08:50:44.339271Z"
    },
    "papermill": {
     "duration": 0.157458,
     "end_time": "2024-07-18T08:50:44.343141",
     "exception": false,
     "start_time": "2024-07-18T08:50:44.185683",
     "status": "completed"
    },
    "tags": []
   },
   "outputs": [
    {
     "data": {
      "text/html": [
       "<div>\n",
       "<style scoped>\n",
       "    .dataframe tbody tr th:only-of-type {\n",
       "        vertical-align: middle;\n",
       "    }\n",
       "\n",
       "    .dataframe tbody tr th {\n",
       "        vertical-align: top;\n",
       "    }\n",
       "\n",
       "    .dataframe thead th {\n",
       "        text-align: right;\n",
       "    }\n",
       "</style>\n",
       "<table border=\"1\" class=\"dataframe\">\n",
       "  <thead>\n",
       "    <tr style=\"text-align: right;\">\n",
       "      <th></th>\n",
       "      <th>id</th>\n",
       "      <th>X_Minimum</th>\n",
       "      <th>X_Maximum</th>\n",
       "      <th>Y_Minimum</th>\n",
       "      <th>Y_Maximum</th>\n",
       "      <th>Pixels_Areas</th>\n",
       "      <th>X_Perimeter</th>\n",
       "      <th>Y_Perimeter</th>\n",
       "      <th>Sum_of_Luminosity</th>\n",
       "      <th>Minimum_of_Luminosity</th>\n",
       "      <th>...</th>\n",
       "      <th>Orientation_Index</th>\n",
       "      <th>Luminosity_Index</th>\n",
       "      <th>SigmoidOfAreas</th>\n",
       "      <th>Pastry</th>\n",
       "      <th>Z_Scratch</th>\n",
       "      <th>K_Scatch</th>\n",
       "      <th>Stains</th>\n",
       "      <th>Dirtiness</th>\n",
       "      <th>Bumps</th>\n",
       "      <th>Other_Faults</th>\n",
       "    </tr>\n",
       "  </thead>\n",
       "  <tbody>\n",
       "    <tr>\n",
       "      <th>count</th>\n",
       "      <td>19219.000000</td>\n",
       "      <td>19219.000000</td>\n",
       "      <td>19219.000000</td>\n",
       "      <td>1.921900e+04</td>\n",
       "      <td>1.921900e+04</td>\n",
       "      <td>19219.000000</td>\n",
       "      <td>19219.000000</td>\n",
       "      <td>19219.000000</td>\n",
       "      <td>1.921900e+04</td>\n",
       "      <td>19219.000000</td>\n",
       "      <td>...</td>\n",
       "      <td>19219.000000</td>\n",
       "      <td>19219.000000</td>\n",
       "      <td>19219.000000</td>\n",
       "      <td>19219.000000</td>\n",
       "      <td>19219.000000</td>\n",
       "      <td>19219.000000</td>\n",
       "      <td>19219.000000</td>\n",
       "      <td>19219.000000</td>\n",
       "      <td>19219.000000</td>\n",
       "      <td>19219.000000</td>\n",
       "    </tr>\n",
       "    <tr>\n",
       "      <th>mean</th>\n",
       "      <td>9609.000000</td>\n",
       "      <td>709.854675</td>\n",
       "      <td>753.857641</td>\n",
       "      <td>1.849756e+06</td>\n",
       "      <td>1.846605e+06</td>\n",
       "      <td>1683.987616</td>\n",
       "      <td>95.654665</td>\n",
       "      <td>64.124096</td>\n",
       "      <td>1.918467e+05</td>\n",
       "      <td>84.808419</td>\n",
       "      <td>...</td>\n",
       "      <td>0.102742</td>\n",
       "      <td>-0.138382</td>\n",
       "      <td>0.571902</td>\n",
       "      <td>0.076279</td>\n",
       "      <td>0.059837</td>\n",
       "      <td>0.178573</td>\n",
       "      <td>0.029554</td>\n",
       "      <td>0.025235</td>\n",
       "      <td>0.247828</td>\n",
       "      <td>0.341225</td>\n",
       "    </tr>\n",
       "    <tr>\n",
       "      <th>std</th>\n",
       "      <td>5548.191747</td>\n",
       "      <td>531.544189</td>\n",
       "      <td>499.836603</td>\n",
       "      <td>1.903554e+06</td>\n",
       "      <td>1.896295e+06</td>\n",
       "      <td>3730.319865</td>\n",
       "      <td>177.821382</td>\n",
       "      <td>101.054178</td>\n",
       "      <td>4.420247e+05</td>\n",
       "      <td>28.800344</td>\n",
       "      <td>...</td>\n",
       "      <td>0.487681</td>\n",
       "      <td>0.120344</td>\n",
       "      <td>0.332219</td>\n",
       "      <td>0.265450</td>\n",
       "      <td>0.237190</td>\n",
       "      <td>0.383005</td>\n",
       "      <td>0.169358</td>\n",
       "      <td>0.156844</td>\n",
       "      <td>0.431762</td>\n",
       "      <td>0.474133</td>\n",
       "    </tr>\n",
       "    <tr>\n",
       "      <th>min</th>\n",
       "      <td>0.000000</td>\n",
       "      <td>0.000000</td>\n",
       "      <td>4.000000</td>\n",
       "      <td>6.712000e+03</td>\n",
       "      <td>6.724000e+03</td>\n",
       "      <td>6.000000</td>\n",
       "      <td>2.000000</td>\n",
       "      <td>1.000000</td>\n",
       "      <td>2.500000e+02</td>\n",
       "      <td>0.000000</td>\n",
       "      <td>...</td>\n",
       "      <td>-0.988400</td>\n",
       "      <td>-0.885000</td>\n",
       "      <td>0.119000</td>\n",
       "      <td>0.000000</td>\n",
       "      <td>0.000000</td>\n",
       "      <td>0.000000</td>\n",
       "      <td>0.000000</td>\n",
       "      <td>0.000000</td>\n",
       "      <td>0.000000</td>\n",
       "      <td>0.000000</td>\n",
       "    </tr>\n",
       "    <tr>\n",
       "      <th>25%</th>\n",
       "      <td>4804.500000</td>\n",
       "      <td>49.000000</td>\n",
       "      <td>214.000000</td>\n",
       "      <td>6.574680e+05</td>\n",
       "      <td>6.575020e+05</td>\n",
       "      <td>89.000000</td>\n",
       "      <td>15.000000</td>\n",
       "      <td>14.000000</td>\n",
       "      <td>9.848000e+03</td>\n",
       "      <td>70.000000</td>\n",
       "      <td>...</td>\n",
       "      <td>-0.272700</td>\n",
       "      <td>-0.192500</td>\n",
       "      <td>0.253200</td>\n",
       "      <td>0.000000</td>\n",
       "      <td>0.000000</td>\n",
       "      <td>0.000000</td>\n",
       "      <td>0.000000</td>\n",
       "      <td>0.000000</td>\n",
       "      <td>0.000000</td>\n",
       "      <td>0.000000</td>\n",
       "    </tr>\n",
       "    <tr>\n",
       "      <th>50%</th>\n",
       "      <td>9609.000000</td>\n",
       "      <td>777.000000</td>\n",
       "      <td>796.000000</td>\n",
       "      <td>1.398169e+06</td>\n",
       "      <td>1.398179e+06</td>\n",
       "      <td>168.000000</td>\n",
       "      <td>25.000000</td>\n",
       "      <td>23.000000</td>\n",
       "      <td>1.823800e+04</td>\n",
       "      <td>90.000000</td>\n",
       "      <td>...</td>\n",
       "      <td>0.111100</td>\n",
       "      <td>-0.142600</td>\n",
       "      <td>0.472900</td>\n",
       "      <td>0.000000</td>\n",
       "      <td>0.000000</td>\n",
       "      <td>0.000000</td>\n",
       "      <td>0.000000</td>\n",
       "      <td>0.000000</td>\n",
       "      <td>0.000000</td>\n",
       "      <td>0.000000</td>\n",
       "    </tr>\n",
       "    <tr>\n",
       "      <th>75%</th>\n",
       "      <td>14413.500000</td>\n",
       "      <td>1152.000000</td>\n",
       "      <td>1165.000000</td>\n",
       "      <td>2.368032e+06</td>\n",
       "      <td>2.362511e+06</td>\n",
       "      <td>653.000000</td>\n",
       "      <td>64.000000</td>\n",
       "      <td>61.000000</td>\n",
       "      <td>6.797800e+04</td>\n",
       "      <td>105.000000</td>\n",
       "      <td>...</td>\n",
       "      <td>0.529400</td>\n",
       "      <td>-0.084000</td>\n",
       "      <td>0.999400</td>\n",
       "      <td>0.000000</td>\n",
       "      <td>0.000000</td>\n",
       "      <td>0.000000</td>\n",
       "      <td>0.000000</td>\n",
       "      <td>0.000000</td>\n",
       "      <td>0.000000</td>\n",
       "      <td>1.000000</td>\n",
       "    </tr>\n",
       "    <tr>\n",
       "      <th>max</th>\n",
       "      <td>19218.000000</td>\n",
       "      <td>1705.000000</td>\n",
       "      <td>1713.000000</td>\n",
       "      <td>1.298766e+07</td>\n",
       "      <td>1.298769e+07</td>\n",
       "      <td>152655.000000</td>\n",
       "      <td>7553.000000</td>\n",
       "      <td>903.000000</td>\n",
       "      <td>1.159141e+07</td>\n",
       "      <td>196.000000</td>\n",
       "      <td>...</td>\n",
       "      <td>0.991700</td>\n",
       "      <td>0.642100</td>\n",
       "      <td>1.000000</td>\n",
       "      <td>1.000000</td>\n",
       "      <td>1.000000</td>\n",
       "      <td>1.000000</td>\n",
       "      <td>1.000000</td>\n",
       "      <td>1.000000</td>\n",
       "      <td>1.000000</td>\n",
       "      <td>1.000000</td>\n",
       "    </tr>\n",
       "  </tbody>\n",
       "</table>\n",
       "<p>8 rows × 35 columns</p>\n",
       "</div>"
      ],
      "text/plain": [
       "                 id     X_Minimum     X_Maximum     Y_Minimum     Y_Maximum  \\\n",
       "count  19219.000000  19219.000000  19219.000000  1.921900e+04  1.921900e+04   \n",
       "mean    9609.000000    709.854675    753.857641  1.849756e+06  1.846605e+06   \n",
       "std     5548.191747    531.544189    499.836603  1.903554e+06  1.896295e+06   \n",
       "min        0.000000      0.000000      4.000000  6.712000e+03  6.724000e+03   \n",
       "25%     4804.500000     49.000000    214.000000  6.574680e+05  6.575020e+05   \n",
       "50%     9609.000000    777.000000    796.000000  1.398169e+06  1.398179e+06   \n",
       "75%    14413.500000   1152.000000   1165.000000  2.368032e+06  2.362511e+06   \n",
       "max    19218.000000   1705.000000   1713.000000  1.298766e+07  1.298769e+07   \n",
       "\n",
       "        Pixels_Areas   X_Perimeter   Y_Perimeter  Sum_of_Luminosity  \\\n",
       "count   19219.000000  19219.000000  19219.000000       1.921900e+04   \n",
       "mean     1683.987616     95.654665     64.124096       1.918467e+05   \n",
       "std      3730.319865    177.821382    101.054178       4.420247e+05   \n",
       "min         6.000000      2.000000      1.000000       2.500000e+02   \n",
       "25%        89.000000     15.000000     14.000000       9.848000e+03   \n",
       "50%       168.000000     25.000000     23.000000       1.823800e+04   \n",
       "75%       653.000000     64.000000     61.000000       6.797800e+04   \n",
       "max    152655.000000   7553.000000    903.000000       1.159141e+07   \n",
       "\n",
       "       Minimum_of_Luminosity  ...  Orientation_Index  Luminosity_Index  \\\n",
       "count           19219.000000  ...       19219.000000      19219.000000   \n",
       "mean               84.808419  ...           0.102742         -0.138382   \n",
       "std                28.800344  ...           0.487681          0.120344   \n",
       "min                 0.000000  ...          -0.988400         -0.885000   \n",
       "25%                70.000000  ...          -0.272700         -0.192500   \n",
       "50%                90.000000  ...           0.111100         -0.142600   \n",
       "75%               105.000000  ...           0.529400         -0.084000   \n",
       "max               196.000000  ...           0.991700          0.642100   \n",
       "\n",
       "       SigmoidOfAreas        Pastry     Z_Scratch      K_Scatch        Stains  \\\n",
       "count    19219.000000  19219.000000  19219.000000  19219.000000  19219.000000   \n",
       "mean         0.571902      0.076279      0.059837      0.178573      0.029554   \n",
       "std          0.332219      0.265450      0.237190      0.383005      0.169358   \n",
       "min          0.119000      0.000000      0.000000      0.000000      0.000000   \n",
       "25%          0.253200      0.000000      0.000000      0.000000      0.000000   \n",
       "50%          0.472900      0.000000      0.000000      0.000000      0.000000   \n",
       "75%          0.999400      0.000000      0.000000      0.000000      0.000000   \n",
       "max          1.000000      1.000000      1.000000      1.000000      1.000000   \n",
       "\n",
       "          Dirtiness         Bumps  Other_Faults  \n",
       "count  19219.000000  19219.000000  19219.000000  \n",
       "mean       0.025235      0.247828      0.341225  \n",
       "std        0.156844      0.431762      0.474133  \n",
       "min        0.000000      0.000000      0.000000  \n",
       "25%        0.000000      0.000000      0.000000  \n",
       "50%        0.000000      0.000000      0.000000  \n",
       "75%        0.000000      0.000000      1.000000  \n",
       "max        1.000000      1.000000      1.000000  \n",
       "\n",
       "[8 rows x 35 columns]"
      ]
     },
     "execution_count": 6,
     "metadata": {},
     "output_type": "execute_result"
    }
   ],
   "source": [
    "X_train.describe()"
   ]
  },
  {
   "cell_type": "code",
   "execution_count": 7,
   "id": "871b861e",
   "metadata": {
    "execution": {
     "iopub.execute_input": "2024-07-18T08:50:44.361056Z",
     "iopub.status.busy": "2024-07-18T08:50:44.360605Z",
     "iopub.status.idle": "2024-07-18T08:50:44.369328Z",
     "shell.execute_reply": "2024-07-18T08:50:44.368201Z"
    },
    "papermill": {
     "duration": 0.021074,
     "end_time": "2024-07-18T08:50:44.372194",
     "exception": false,
     "start_time": "2024-07-18T08:50:44.351120",
     "status": "completed"
    },
    "tags": []
   },
   "outputs": [],
   "source": [
    "X = X_train.drop(columns=['id', 'Pastry', 'Z_Scratch', 'K_Scatch', 'Stains', 'Dirtiness', 'Bumps', 'Other_Faults'])\n",
    "y = X_train[['Pastry', 'Z_Scratch', 'K_Scatch', 'Stains', 'Dirtiness', 'Bumps', 'Other_Faults']]"
   ]
  },
  {
   "cell_type": "code",
   "execution_count": 8,
   "id": "8adc373c",
   "metadata": {
    "execution": {
     "iopub.execute_input": "2024-07-18T08:50:44.391522Z",
     "iopub.status.busy": "2024-07-18T08:50:44.391122Z",
     "iopub.status.idle": "2024-07-18T08:50:44.411718Z",
     "shell.execute_reply": "2024-07-18T08:50:44.410285Z"
    },
    "papermill": {
     "duration": 0.034632,
     "end_time": "2024-07-18T08:50:44.415019",
     "exception": false,
     "start_time": "2024-07-18T08:50:44.380387",
     "status": "completed"
    },
    "tags": []
   },
   "outputs": [],
   "source": [
    "X_train, X_val, y_train, y_val = train_test_split(X, y, test_size=0.2, random_state=42)"
   ]
  },
  {
   "cell_type": "code",
   "execution_count": 9,
   "id": "a8999f3d",
   "metadata": {
    "execution": {
     "iopub.execute_input": "2024-07-18T08:50:44.434425Z",
     "iopub.status.busy": "2024-07-18T08:50:44.434017Z",
     "iopub.status.idle": "2024-07-18T08:50:44.473003Z",
     "shell.execute_reply": "2024-07-18T08:50:44.470243Z"
    },
    "papermill": {
     "duration": 0.053876,
     "end_time": "2024-07-18T08:50:44.477434",
     "exception": false,
     "start_time": "2024-07-18T08:50:44.423558",
     "status": "completed"
    },
    "tags": []
   },
   "outputs": [],
   "source": [
    "scaler = StandardScaler()\n",
    "X_train_scaled = scaler.fit_transform(X_train)\n",
    "X_val_scaled = scaler.transform(X_val)"
   ]
  },
  {
   "cell_type": "code",
   "execution_count": 10,
   "id": "b142732b",
   "metadata": {
    "execution": {
     "iopub.execute_input": "2024-07-18T08:50:44.502821Z",
     "iopub.status.busy": "2024-07-18T08:50:44.502347Z",
     "iopub.status.idle": "2024-07-18T08:50:46.494245Z",
     "shell.execute_reply": "2024-07-18T08:50:46.492729Z"
    },
    "papermill": {
     "duration": 2.008019,
     "end_time": "2024-07-18T08:50:46.498433",
     "exception": false,
     "start_time": "2024-07-18T08:50:44.490414",
     "status": "completed"
    },
    "tags": []
   },
   "outputs": [],
   "source": [
    "models={}\n",
    "for defect in ['Pastry', 'Z_Scratch', 'K_Scatch', 'Stains', 'Dirtiness', 'Bumps', 'Other_Faults']:\n",
    "    model = LogisticRegression(max_iter=1000)\n",
    "    model.fit(X_train_scaled, y_train[defect])\n",
    "    models[defect] = model"
   ]
  },
  {
   "cell_type": "code",
   "execution_count": 11,
   "id": "8ea586b7",
   "metadata": {
    "execution": {
     "iopub.execute_input": "2024-07-18T08:50:46.537020Z",
     "iopub.status.busy": "2024-07-18T08:50:46.536350Z",
     "iopub.status.idle": "2024-07-18T08:50:46.563251Z",
     "shell.execute_reply": "2024-07-18T08:50:46.561602Z"
    },
    "papermill": {
     "duration": 0.051961,
     "end_time": "2024-07-18T08:50:46.568411",
     "exception": false,
     "start_time": "2024-07-18T08:50:46.516450",
     "status": "completed"
    },
    "tags": []
   },
   "outputs": [],
   "source": [
    "val_predictions = pd.DataFrame()\n",
    "for defect, model in models.items():\n",
    "    val_predictions[defect] = model.predict_proba(X_val_scaled)[:, 1]"
   ]
  },
  {
   "cell_type": "code",
   "execution_count": 12,
   "id": "392b9964",
   "metadata": {
    "execution": {
     "iopub.execute_input": "2024-07-18T08:50:46.604759Z",
     "iopub.status.busy": "2024-07-18T08:50:46.604128Z",
     "iopub.status.idle": "2024-07-18T08:50:46.662319Z",
     "shell.execute_reply": "2024-07-18T08:50:46.660576Z"
    },
    "papermill": {
     "duration": 0.081668,
     "end_time": "2024-07-18T08:50:46.667725",
     "exception": false,
     "start_time": "2024-07-18T08:50:46.586057",
     "status": "completed"
    },
    "tags": []
   },
   "outputs": [],
   "source": [
    "auc_scores = []\n",
    "for defect in ['Pastry', 'Z_Scratch', 'K_Scatch', 'Stains', 'Dirtiness', 'Bumps', 'Other_Faults']:\n",
    "    auc = roc_auc_score(y_val[defect], val_predictions[defect])\n",
    "    auc_scores.append(auc)"
   ]
  },
  {
   "cell_type": "code",
   "execution_count": 13,
   "id": "2695201b",
   "metadata": {
    "execution": {
     "iopub.execute_input": "2024-07-18T08:50:46.692339Z",
     "iopub.status.busy": "2024-07-18T08:50:46.691967Z",
     "iopub.status.idle": "2024-07-18T08:50:46.780454Z",
     "shell.execute_reply": "2024-07-18T08:50:46.779120Z"
    },
    "papermill": {
     "duration": 0.101242,
     "end_time": "2024-07-18T08:50:46.784070",
     "exception": false,
     "start_time": "2024-07-18T08:50:46.682828",
     "status": "completed"
    },
    "tags": []
   },
   "outputs": [
    {
     "name": "stdout",
     "output_type": "stream",
     "text": [
      "Average AUC Score: 0.8639286557938158\n"
     ]
    }
   ],
   "source": [
    "avg_auc = sum(auc_scores) / len(auc_scores)\n",
    "print(\"Average AUC Score:\", avg_auc)"
   ]
  },
  {
   "cell_type": "code",
   "execution_count": 14,
   "id": "69462454",
   "metadata": {
    "execution": {
     "iopub.execute_input": "2024-07-18T08:50:46.802198Z",
     "iopub.status.busy": "2024-07-18T08:50:46.801799Z",
     "iopub.status.idle": "2024-07-18T08:50:46.813539Z",
     "shell.execute_reply": "2024-07-18T08:50:46.812420Z"
    },
    "papermill": {
     "duration": 0.024093,
     "end_time": "2024-07-18T08:50:46.816592",
     "exception": false,
     "start_time": "2024-07-18T08:50:46.792499",
     "status": "completed"
    },
    "tags": []
   },
   "outputs": [],
   "source": [
    "X_test_scaled = scaler.transform(X_test.drop(columns=['id']))"
   ]
  },
  {
   "cell_type": "code",
   "execution_count": 15,
   "id": "a8ac7b13",
   "metadata": {
    "execution": {
     "iopub.execute_input": "2024-07-18T08:50:46.835207Z",
     "iopub.status.busy": "2024-07-18T08:50:46.834762Z",
     "iopub.status.idle": "2024-07-18T08:50:46.852703Z",
     "shell.execute_reply": "2024-07-18T08:50:46.851208Z"
    },
    "papermill": {
     "duration": 0.031931,
     "end_time": "2024-07-18T08:50:46.857146",
     "exception": false,
     "start_time": "2024-07-18T08:50:46.825215",
     "status": "completed"
    },
    "tags": []
   },
   "outputs": [],
   "source": [
    "test_predictions = pd.DataFrame()\n",
    "for defect, model in models.items():\n",
    "    test_predictions[defect] = model.predict_proba(X_test_scaled)[:, 1]"
   ]
  },
  {
   "cell_type": "code",
   "execution_count": 16,
   "id": "01b6ba83",
   "metadata": {
    "execution": {
     "iopub.execute_input": "2024-07-18T08:50:46.895198Z",
     "iopub.status.busy": "2024-07-18T08:50:46.894538Z",
     "iopub.status.idle": "2024-07-18T08:50:46.910176Z",
     "shell.execute_reply": "2024-07-18T08:50:46.908622Z"
    },
    "papermill": {
     "duration": 0.038087,
     "end_time": "2024-07-18T08:50:46.914489",
     "exception": false,
     "start_time": "2024-07-18T08:50:46.876402",
     "status": "completed"
    },
    "tags": []
   },
   "outputs": [],
   "source": [
    "submission_df = pd.DataFrame({'id': X_test['id']})\n",
    "for defect in ['Pastry', 'Z_Scratch', 'K_Scatch', 'Stains', 'Dirtiness', 'Bumps', 'Other_Faults']:\n",
    "    submission_df[defect] = test_predictions[defect]"
   ]
  },
  {
   "cell_type": "code",
   "execution_count": 17,
   "id": "7f45bb3c",
   "metadata": {
    "execution": {
     "iopub.execute_input": "2024-07-18T08:50:46.949822Z",
     "iopub.status.busy": "2024-07-18T08:50:46.949170Z",
     "iopub.status.idle": "2024-07-18T08:50:47.201223Z",
     "shell.execute_reply": "2024-07-18T08:50:47.200093Z"
    },
    "papermill": {
     "duration": 0.273197,
     "end_time": "2024-07-18T08:50:47.204176",
     "exception": false,
     "start_time": "2024-07-18T08:50:46.930979",
     "status": "completed"
    },
    "tags": []
   },
   "outputs": [],
   "source": [
    "submission_df.to_csv('submission.csv', index=False)"
   ]
  },
  {
   "cell_type": "code",
   "execution_count": null,
   "id": "82836c4e",
   "metadata": {
    "papermill": {
     "duration": 0.008212,
     "end_time": "2024-07-18T08:50:47.220476",
     "exception": false,
     "start_time": "2024-07-18T08:50:47.212264",
     "status": "completed"
    },
    "tags": []
   },
   "outputs": [],
   "source": []
  }
 ],
 "metadata": {
  "kaggle": {
   "accelerator": "none",
   "dataSources": [
    {
     "databundleVersionId": 7659021,
     "sourceId": 68699,
     "sourceType": "competition"
    }
   ],
   "dockerImageVersionId": 30673,
   "isGpuEnabled": false,
   "isInternetEnabled": true,
   "language": "python",
   "sourceType": "notebook"
  },
  "kernelspec": {
   "display_name": "Python 3",
   "language": "python",
   "name": "python3"
  },
  "language_info": {
   "codemirror_mode": {
    "name": "ipython",
    "version": 3
   },
   "file_extension": ".py",
   "mimetype": "text/x-python",
   "name": "python",
   "nbconvert_exporter": "python",
   "pygments_lexer": "ipython3",
   "version": "3.10.13"
  },
  "papermill": {
   "default_parameters": {},
   "duration": 10.306972,
   "end_time": "2024-07-18T08:50:47.850629",
   "environment_variables": {},
   "exception": null,
   "input_path": "__notebook__.ipynb",
   "output_path": "__notebook__.ipynb",
   "parameters": {},
   "start_time": "2024-07-18T08:50:37.543657",
   "version": "2.5.0"
  }
 },
 "nbformat": 4,
 "nbformat_minor": 5
}
